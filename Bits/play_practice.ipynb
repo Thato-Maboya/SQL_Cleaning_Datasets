{
 "cells": [
  {
   "cell_type": "code",
   "execution_count": 4,
   "metadata": {},
   "outputs": [],
   "source": [
    "import pandas as pd\n",
    "import numpy as np\n",
    "import datetime\n",
    "from dateutil.relativedelta import relativedelta\n",
    "from datetime import date"
   ]
  },
  {
   "cell_type": "code",
   "execution_count": 5,
   "metadata": {},
   "outputs": [
    {
     "name": "stdout",
     "output_type": "stream",
     "text": [
      "           Start_date            End_date\n",
      "0 2012-01-31 12:00:00 2013-03-17 21:45:00\n",
      "1 2012-02-29 12:00:00 2013-03-24 21:45:00\n",
      "2 2012-03-31 12:00:00 2013-03-31 21:45:00\n",
      "3 2012-04-30 12:00:00 2013-04-07 21:45:00\n",
      "4 2012-05-31 12:00:00 2013-04-14 21:45:00\n",
      "5 2012-06-30 12:00:00 2013-04-21 21:45:00\n",
      "6 2012-07-31 12:00:00 2013-04-28 21:45:00\n"
     ]
    }
   ],
   "source": [
    "date1 = pd.Series(pd.date_range('2012-1-1 12:00:00', periods=7, freq='M'))\n",
    "date2 = pd.Series(pd.date_range('2013-3-11 21:45:00', periods=7, freq='W'))\n",
    "\n",
    "df = pd.DataFrame(dict(Start_date = date1, End_date = date2))\n",
    "print(df)"
   ]
  },
  {
   "cell_type": "code",
   "execution_count": 6,
   "metadata": {},
   "outputs": [
    {
     "name": "stdout",
     "output_type": "stream",
     "text": [
      "           Start_date            End_date         diff_days\n",
      "0 2012-01-31 12:00:00 2013-03-17 21:45:00 411 days 09:45:00\n",
      "1 2012-02-29 12:00:00 2013-03-24 21:45:00 389 days 09:45:00\n",
      "2 2012-03-31 12:00:00 2013-03-31 21:45:00 365 days 09:45:00\n",
      "3 2012-04-30 12:00:00 2013-04-07 21:45:00 342 days 09:45:00\n",
      "4 2012-05-31 12:00:00 2013-04-14 21:45:00 318 days 09:45:00\n",
      "5 2012-06-30 12:00:00 2013-04-21 21:45:00 295 days 09:45:00\n",
      "6 2012-07-31 12:00:00 2013-04-28 21:45:00 271 days 09:45:00\n"
     ]
    }
   ],
   "source": [
    "df['diff_days'] = df['End_date'] - df['Start_date']\n",
    "\n",
    "\n",
    "print(df)"
   ]
  },
  {
   "cell_type": "code",
   "execution_count": null,
   "metadata": {},
   "outputs": [],
   "source": []
  }
 ],
 "metadata": {
  "kernelspec": {
   "display_name": "Python 3",
   "language": "python",
   "name": "python3"
  },
  "language_info": {
   "codemirror_mode": {
    "name": "ipython",
    "version": 3
   },
   "file_extension": ".py",
   "mimetype": "text/x-python",
   "name": "python",
   "nbconvert_exporter": "python",
   "pygments_lexer": "ipython3",
   "version": "3.7.3"
  }
 },
 "nbformat": 4,
 "nbformat_minor": 2
}
